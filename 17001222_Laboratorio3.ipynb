{
 "cells": [
  {
   "cell_type": "markdown",
   "id": "640e5462-a258-477a-9bfe-2af4ecbddc0c",
   "metadata": {},
   "source": [
    "17001222 -- Marian Vela"
   ]
  },
  {
   "cell_type": "markdown",
   "id": "81fed42e-8365-4cf7-84d3-fa54aac60a70",
   "metadata": {},
   "source": [
    "# Laboratorio No. 3"
   ]
  },
  {
   "cell_type": "markdown",
   "id": "912fc1b7-667c-476c-acdf-80c7d5f6af37",
   "metadata": {},
   "source": [
    "## Parte 1: Numpy"
   ]
  },
  {
   "cell_type": "code",
   "execution_count": 1,
   "id": "d3779c9d-9d27-4d79-86d4-043101a0f7ae",
   "metadata": {
    "tags": []
   },
   "outputs": [],
   "source": [
    "# imports relevantes para el lab\n",
    "\n",
    "import numpy as np\n",
    "import pandas as pd"
   ]
  },
  {
   "cell_type": "markdown",
   "id": "9d31648a-2d13-4c2f-acf8-22f742ffb425",
   "metadata": {},
   "source": [
    "1) ¿Cuál es el tamaño en bytes de un array de 1000 elementos de tipo booleano?"
   ]
  },
  {
   "cell_type": "code",
   "execution_count": 5,
   "id": "697d1842-e281-4d6a-a574-85ad6c8a6c64",
   "metadata": {
    "tags": []
   },
   "outputs": [],
   "source": [
    "array1 = np.zeros( 1000, dtype = bool)\n",
    "array1"
   ]
  },
  {
   "cell_type": "code",
   "execution_count": 8,
   "id": "62dd30aa-835e-4ff9-8542-5c1aa9d64d65",
   "metadata": {
    "tags": []
   },
   "outputs": [
    {
     "name": "stdout",
     "output_type": "stream",
     "text": [
      "Tiene 1000 bytes\n"
     ]
    }
   ],
   "source": [
    "print( \"Tiene\", array1.nbytes, \"bytes\" )"
   ]
  },
  {
   "cell_type": "markdown",
   "id": "250a01b9-adad-49df-803f-56b8fc382ae4",
   "metadata": {},
   "source": [
    "2) Cree un array cuyos elementos sean los enteros pares en [1,100] y en orden decreciente. Muestre los 10 últimos por pantalla."
   ]
  },
  {
   "cell_type": "code",
   "execution_count": 12,
   "id": "5c4a996f-d181-481d-9542-ab834c006d83",
   "metadata": {
    "tags": []
   },
   "outputs": [],
   "source": [
    "# arange([start,] stop[, step,], dtype=None, *, like=None)\n",
    "array_pares = np.arange( 100, 0, -2 )"
   ]
  },
  {
   "cell_type": "code",
   "execution_count": 13,
   "id": "1a5af484-8153-48ed-a812-4c8ed4c13073",
   "metadata": {
    "tags": []
   },
   "outputs": [
    {
     "name": "stdout",
     "output_type": "stream",
     "text": [
      "[20 18 16 14 12 10  8  6  4  2]\n"
     ]
    }
   ],
   "source": [
    "print( array_pares[-10:] )"
   ]
  },
  {
   "cell_type": "markdown",
   "id": "cd344bf6-2b76-4be8-88fd-caf7b45fdaf5",
   "metadata": {},
   "source": [
    "3) Dado el array\n",
    "```\n",
    "2 4 5 6\n",
    "0 3 7 4\n",
    "8 8 5 2\n",
    "1 5 6 1\n",
    "```\n",
    "Seleccione con una instrucción el subarray de elementos\n",
    "```\n",
    "0 3 7 4\n",
    "```\n",
    "Después, seleccione el subarray de elementos\n",
    "```\n",
    "2 5\n",
    "8 5\n",
    "```"
   ]
  },
  {
   "cell_type": "code",
   "execution_count": 24,
   "id": "c0cfa180-1eb6-473a-906e-91d9f11cef07",
   "metadata": {
    "tags": []
   },
   "outputs": [],
   "source": [
    "array2 = np.array([\n",
    "    [2, 4, 5, 6],\n",
    "    [0, 3, 7, 4],\n",
    "    [8, 8, 5, 2],\n",
    "    [1, 5, 6, 1]\n",
    "])"
   ]
  },
  {
   "cell_type": "code",
   "execution_count": 16,
   "id": "ab1f3fd1-198d-470a-b918-3fd28fce88ea",
   "metadata": {
    "tags": []
   },
   "outputs": [
    {
     "data": {
      "text/plain": [
       "array([0, 3, 7, 4])"
      ]
     },
     "execution_count": 16,
     "metadata": {},
     "output_type": "execute_result"
    }
   ],
   "source": [
    "subarray1 = array2[1, :]\n",
    "subarray1"
   ]
  },
  {
   "cell_type": "code",
   "execution_count": 34,
   "id": "bf008eb6-cb29-4cc7-a2b8-3d98ed5bb402",
   "metadata": {
    "tags": []
   },
   "outputs": [
    {
     "data": {
      "text/plain": [
       "array([[2, 5],\n",
       "       [8, 5]])"
      ]
     },
     "execution_count": 34,
     "metadata": {},
     "output_type": "execute_result"
    }
   ],
   "source": [
    "# escogemos fila 0, 2. Luego escogemos de ese resultado columna 0, 2.\n",
    "subarray2 = array2[[0, 2], :][:, [0, 2]]\n",
    "subarray2"
   ]
  },
  {
   "cell_type": "markdown",
   "id": "4f0914ba-8e31-403f-8ff6-31bbeb2d75d1",
   "metadata": {},
   "source": [
    "4) Dados los arrays a = [1, 4, 2, 7] y b = [1, 3, 2, 9], obtenga la media aritmética de la diferencia (a-b)"
   ]
  },
  {
   "cell_type": "code",
   "execution_count": 35,
   "id": "56bee618-94f8-4670-8e46-e2aedc434c8b",
   "metadata": {
    "tags": []
   },
   "outputs": [],
   "source": [
    "a = np.array([1, 4, 2, 7])\n",
    "b = np.array([1, 3, 2, 9])"
   ]
  },
  {
   "cell_type": "code",
   "execution_count": 36,
   "id": "98ab4b1f-e851-4099-b68b-10d9b4c05491",
   "metadata": {
    "tags": []
   },
   "outputs": [
    {
     "name": "stdout",
     "output_type": "stream",
     "text": [
      "Promedio de diferencia: -0.25\n"
     ]
    }
   ],
   "source": [
    "# media de diferencia\n",
    "mean_dif = np.mean(a - b)\n",
    "print(\"Promedio de diferencia:\", mean_dif)"
   ]
  },
  {
   "cell_type": "markdown",
   "id": "cb607908-eb3c-4569-837b-f4adb7768d17",
   "metadata": {},
   "source": [
    "5. Tengo valores de cordenadas (x, y) en las columnas del array\n",
    "```\n",
    "1.33 4.5\n",
    "30.0 10.7\n",
    "70.2 0.5\n",
    "```\n",
    "Agregue a este array las coordenadas (37.1, -3.6). Muestre en pantalla las dimensiones del nuevo array."
   ]
  },
  {
   "cell_type": "code",
   "execution_count": 44,
   "id": "1e76874f-8d8a-494f-b263-df8ed751a196",
   "metadata": {
    "tags": []
   },
   "outputs": [],
   "source": [
    "coordenadas = np.array([\n",
    "    [1.33, 4.5],\n",
    "    [30.0, 10.7],\n",
    "    [70.2, 0.5]\n",
    "])"
   ]
  },
  {
   "cell_type": "code",
   "execution_count": 45,
   "id": "62c49c68-6723-4ba0-ac33-67b179f558da",
   "metadata": {
    "tags": []
   },
   "outputs": [
    {
     "data": {
      "text/plain": [
       "array([[ 1.33,  4.5 ],\n",
       "       [30.  , 10.7 ],\n",
       "       [70.2 ,  0.5 ],\n",
       "       [37.1 , -3.6 ]])"
      ]
     },
     "execution_count": 45,
     "metadata": {},
     "output_type": "execute_result"
    }
   ],
   "source": [
    "coordenadas = np.append(coordenadas, [[37.1, -3.6]], axis = 0)\n",
    "coordenadas"
   ]
  },
  {
   "cell_type": "code",
   "execution_count": 46,
   "id": "7c1c0aa3-1c54-4ffe-b95a-184c12995bf8",
   "metadata": {
    "tags": []
   },
   "outputs": [
    {
     "name": "stdout",
     "output_type": "stream",
     "text": [
      "Dimensiones: (4, 2)\n"
     ]
    }
   ],
   "source": [
    "print(\"Dimensiones:\", coordenadas.shape)"
   ]
  },
  {
   "cell_type": "markdown",
   "id": "31c616ee-cb86-4c27-bb18-6bb84e4e050f",
   "metadata": {},
   "source": [
    "6) Copie el array del ejercicio anterior. Traspóngalo. Agregue ahora dos nuevos pares de coordenadas: (10.8,3.0) y (35.8, 12.0)."
   ]
  },
  {
   "cell_type": "code",
   "execution_count": 54,
   "id": "2d112f7d-cd54-41bb-804a-9b3d5ce0b6d2",
   "metadata": {
    "tags": []
   },
   "outputs": [],
   "source": [
    "coordenadas_copia = np.array([\n",
    "    [1.33, 4.5],\n",
    "    [30.0, 10.7],\n",
    "    [70.2, 0.5]\n",
    "])"
   ]
  },
  {
   "cell_type": "code",
   "execution_count": 55,
   "id": "6a87d438-0917-4a53-966b-8c99699f8b8e",
   "metadata": {
    "tags": []
   },
   "outputs": [
    {
     "data": {
      "text/plain": [
       "array([[ 1.33, 30.  , 70.2 ],\n",
       "       [ 4.5 , 10.7 ,  0.5 ]])"
      ]
     },
     "execution_count": 55,
     "metadata": {},
     "output_type": "execute_result"
    }
   ],
   "source": [
    "coordenadas_T = coordenadas_copia.T\n",
    "coordenadas_T"
   ]
  },
  {
   "cell_type": "code",
   "execution_count": 56,
   "id": "daecdb8a-e339-4391-bf23-346e3d5b9ce7",
   "metadata": {
    "tags": []
   },
   "outputs": [],
   "source": [
    "# el axis es 1 porque transpusimos la matriz, en vez de ser cero\n",
    "coordenadas_final = np.append(coordenadas_T, [[10.8, 3.0], [35.8, 12.0]], axis = 1)"
   ]
  },
  {
   "cell_type": "code",
   "execution_count": 57,
   "id": "88cd5b9a-253b-426b-8619-dd7275fbbfb4",
   "metadata": {
    "tags": []
   },
   "outputs": [
    {
     "data": {
      "text/plain": [
       "array([[ 1.33, 30.  , 70.2 , 10.8 ,  3.  ],\n",
       "       [ 4.5 , 10.7 ,  0.5 , 35.8 , 12.  ]])"
      ]
     },
     "execution_count": 57,
     "metadata": {},
     "output_type": "execute_result"
    }
   ],
   "source": [
    "coordenadas_final"
   ]
  },
  {
   "cell_type": "markdown",
   "id": "309762d0-a69c-4d83-b41a-b07a628e7cba",
   "metadata": {},
   "source": [
    "## Parte 2: Exploración y Minería de Datos"
   ]
  },
  {
   "cell_type": "code",
   "execution_count": 59,
   "id": "112bc7d2-1a87-4ff1-94d8-39005d63e968",
   "metadata": {
    "tags": []
   },
   "outputs": [],
   "source": [
    "df = pd.read_csv('NucleosPoblacion.csv')"
   ]
  },
  {
   "cell_type": "markdown",
   "id": "99129b96-ffa7-4b39-b6d4-f4a208dcbda4",
   "metadata": {},
   "source": [
    "1) ¿Cuántos Municipios tienen más de 100000 habitantes?"
   ]
  },
  {
   "cell_type": "code",
   "execution_count": null,
   "id": "dd57d822-b347-4d62-8932-e7bbca9a751f",
   "metadata": {},
   "outputs": [],
   "source": []
  },
  {
   "cell_type": "markdown",
   "id": "4b75db67-4057-48f5-9021-b20f677213ce",
   "metadata": {
    "tags": []
   },
   "source": [
    "2) Realice una gráfica de barras sobre la polbación de cada ciudad, ordenela de menor a mayo y responda:\n",
    "    a) ¿Cuál es la segunda ciudad más poblada?\n",
    "    b) ¿Qué posición ocupa Granada en el ranking de las ciudades más pobladas?"
   ]
  },
  {
   "cell_type": "code",
   "execution_count": null,
   "id": "a0511dab-3142-477e-abd9-b5aaaf804703",
   "metadata": {},
   "outputs": [],
   "source": []
  },
  {
   "cell_type": "code",
   "execution_count": null,
   "id": "4b2a4aca-fe37-4934-a4e5-353858228bf4",
   "metadata": {},
   "outputs": [],
   "source": []
  },
  {
   "cell_type": "markdown",
   "id": "8edd4211-2fb7-4f3d-b502-18ee5f9793ee",
   "metadata": {},
   "source": [
    "3) ¿Cuántos municipios de Extremadura tienen más de 5000 habitantes?"
   ]
  },
  {
   "cell_type": "code",
   "execution_count": null,
   "id": "ac52f816-edd9-489f-961e-c9e93d7543e6",
   "metadata": {},
   "outputs": [],
   "source": []
  },
  {
   "cell_type": "markdown",
   "id": "b55fb47c-024d-4c7f-a733-7574c6780ec7",
   "metadata": {
    "tags": []
   },
   "source": [
    "4) ¿Cuál es el municipio situado más al Norte? (Usar el valor de la coordenada \"Y\" que representa la latitud en grados). Proporcione también la provincia a la que pertenece y su población."
   ]
  },
  {
   "cell_type": "code",
   "execution_count": null,
   "id": "84ab65fd-d8b2-4805-a272-c04ac9eaa3a6",
   "metadata": {},
   "outputs": [],
   "source": []
  },
  {
   "cell_type": "markdown",
   "id": "cab73b51-c18c-4afb-87cf-4ef0c4cd194b",
   "metadata": {
    "tags": []
   },
   "source": [
    "5) Obtenga la media, mediana, desviación estándar, valor máximo y valor mínimo de la población de los municipios de la provincia de Granada."
   ]
  },
  {
   "cell_type": "code",
   "execution_count": null,
   "id": "80350a2c-b44c-41dc-8014-29d3195c0218",
   "metadata": {},
   "outputs": [],
   "source": []
  },
  {
   "cell_type": "markdown",
   "id": "52b2246d-58e5-4d06-a9d4-1028e8b17f23",
   "metadata": {},
   "source": [
    "6) Realice un histograma con la población de los Municipios para cada una de las provincias."
   ]
  },
  {
   "cell_type": "code",
   "execution_count": null,
   "id": "7f584826-492f-4c64-bdcc-4cc4b757ccf4",
   "metadata": {},
   "outputs": [],
   "source": []
  },
  {
   "cell_type": "code",
   "execution_count": null,
   "id": "4dccd424-f83e-4f29-bb3b-ddd8722d9f58",
   "metadata": {},
   "outputs": [],
   "source": []
  },
  {
   "cell_type": "markdown",
   "id": "0543cdc7-8928-478a-850d-654f757dd630",
   "metadata": {},
   "source": [
    "7) Seleccione al azar cincuenta municipios diferentes de entre los diponibles en el archivo. Asegúrese de que no se repitan. ¿Luego calcule el promedio de la población y la desviación estándar de esto 50 municipios?."
   ]
  },
  {
   "cell_type": "code",
   "execution_count": null,
   "id": "287d6253-57c5-438d-ac94-9470c44e0f52",
   "metadata": {},
   "outputs": [],
   "source": []
  },
  {
   "cell_type": "code",
   "execution_count": null,
   "id": "337121f8-b53c-40f7-aa44-85020fed5a97",
   "metadata": {},
   "outputs": [],
   "source": []
  },
  {
   "cell_type": "markdown",
   "id": "46b7f469-5210-4f9b-b3c1-e4a515295c36",
   "metadata": {},
   "source": [
    "8) Determine los nombres de los Municipios más cercano y más lejano a Madrid. Para ello debe calcular la distancia en todos ellos y Madrid. No considere a Madrid en el análisis ya que la distancia sería cero."
   ]
  },
  {
   "cell_type": "code",
   "execution_count": null,
   "id": "fd3508ba-93a7-4263-936e-49a4ab12b5a9",
   "metadata": {},
   "outputs": [],
   "source": []
  },
  {
   "cell_type": "code",
   "execution_count": null,
   "id": "5fc01bfc-350b-4ec5-95a4-45440d1d7f98",
   "metadata": {},
   "outputs": [],
   "source": []
  }
 ],
 "metadata": {
  "kernelspec": {
   "display_name": "Python 3 (ipykernel)",
   "language": "python",
   "name": "python3"
  },
  "language_info": {
   "codemirror_mode": {
    "name": "ipython",
    "version": 3
   },
   "file_extension": ".py",
   "mimetype": "text/x-python",
   "name": "python",
   "nbconvert_exporter": "python",
   "pygments_lexer": "ipython3",
   "version": "3.11.5"
  }
 },
 "nbformat": 4,
 "nbformat_minor": 5
}
